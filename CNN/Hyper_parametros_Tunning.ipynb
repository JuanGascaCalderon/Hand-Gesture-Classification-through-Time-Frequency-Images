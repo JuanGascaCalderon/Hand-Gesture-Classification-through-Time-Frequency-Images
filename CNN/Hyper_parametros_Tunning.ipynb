{
 "cells": [
  {
   "cell_type": "markdown",
   "metadata": {},
   "source": [
    "# Import libraries"
   ]
  },
  {
   "cell_type": "code",
   "execution_count": null,
   "metadata": {
    "colab": {
     "base_uri": "https://localhost:8080/"
    },
    "id": "e2nE0bKzt2ra",
    "outputId": "3f09a718-93ce-44ae-e887-8304dc8d80ed"
   },
   "outputs": [],
   "source": [
    "import tensorflow as tf \n",
    "from tensorflow.keras.utils import to_categorical\n",
    "from tensorflow.keras.models import Sequential,  Model\n",
    "from tensorflow.keras.layers import Dense, Dropout, Flatten, Input,BatchNormalization, Conv2D, MaxPooling2D, BatchNormalization, LeakyReLU, AveragePooling2D\n",
    "from tensorflow.keras.callbacks import EarlyStopping, History, TensorBoard,ModelCheckpoint\n",
    "from sklearn.model_selection import train_test_split\n",
    "from tensorflow.keras import regularizers\n",
    "from matplotlib.image import imread\n",
    "import matplotlib.pyplot as plt\n",
    "import numpy as np\n",
    "import time \n",
    "import re\n",
    "import os\n",
    "from PIL import Image\n",
    "history = History()\n",
    "#%matplotlib inline"
   ]
  },
  {
   "cell_type": "code",
   "execution_count": 2,
   "metadata": {},
   "outputs": [],
   "source": [
    "%pip uninstall keras\n"
   ]
  },
  {
   "cell_type": "code",
   "execution_count": null,
   "metadata": {},
   "outputs": [],
   "source": [
    "%pip install keras==2.3.1"
   ]
  },
  {
   "cell_type": "code",
   "execution_count": null,
   "metadata": {},
   "outputs": [],
   "source": [
    "%pip install --upgrade tensorflow --user\n",
    "%pip install --upgrade keras --user\n"
   ]
  },
  {
   "cell_type": "code",
   "execution_count": 2,
   "metadata": {},
   "outputs": [
    {
     "name": "stdout",
     "output_type": "stream",
     "text": [
      "leyendo imagenes de  C:\\Users\\JUANPABLOGASCA\\Desktop\\ALL-BY-ONE\\\\32\\\n",
      "C:\\Users\\JUANPABLOGASCA\\Desktop\\ALL-BY-ONE\\\\32\\CLASE_1 1\n",
      "C:\\Users\\JUANPABLOGASCA\\Desktop\\ALL-BY-ONE\\\\32\\CLASE_2 18720\n",
      "C:\\Users\\JUANPABLOGASCA\\Desktop\\ALL-BY-ONE\\\\32\\CLASE_3 18720\n",
      "C:\\Users\\JUANPABLOGASCA\\Desktop\\ALL-BY-ONE\\\\32\\CLASE_4 18720\n",
      "C:\\Users\\JUANPABLOGASCA\\Desktop\\ALL-BY-ONE\\\\32\\CLASE_5 18720\n",
      "C:\\Users\\JUANPABLOGASCA\\Desktop\\ALL-BY-ONE\\\\32\\CLASE_6 18720\n",
      "Directorios leidos: 6\n",
      "Imagenes en cada directorio [18721, 18720, 18720, 18720, 18720, 18719]\n",
      "Suma Total de imagenes en subdirs: 112320\n"
     ]
    }
   ],
   "source": [
    "datapath = r\"C:\\Users\\JUANPABLOGASCA\\Desktop\\Pacientes_CNN\\P01\\Clases-32\"#r\"C:\\Users\\JUANPABLOGASCA\\Desktop\\ALL-BY-ONE\\\\32\"\n",
    "imgpath = datapath + os.sep \n",
    "\n",
    "images = []\n",
    "directories = []\n",
    "dircount = []\n",
    "prevRoot=''\n",
    "cant=0\n",
    "\n",
    "print(\"leyendo imagenes de \",imgpath)\n",
    "\n",
    "for root, datapath, filenames in os.walk(imgpath):\n",
    "    for filename in filenames:\n",
    "        if re.search(\"\\.(jpg|jpeg|png|bmp|tiff)$\", filename):\n",
    "            cant=cant+1\n",
    "            filepath = os.path.join(root, filename)\n",
    "            image = plt.imread(filepath)\n",
    "            images.append(image)\n",
    "            b = \"Leyendo...\" + str(cant)\n",
    "            print (b, end=\"\\r\")\n",
    "            if prevRoot !=root:\n",
    "                print(root, cant)\n",
    "                prevRoot=root\n",
    "                directories.append(root)\n",
    "                dircount.append(cant)\n",
    "                cant=0\n",
    "\n",
    "dircount.append(cant)\n",
    "\n",
    "dircount = dircount[1:]\n",
    "dircount[0]=dircount[0]+1\n",
    "print('Directorios leidos:',len(directories))\n",
    "print(\"Imagenes en cada directorio\", dircount)\n",
    "print('Suma Total de imagenes en subdirs:',sum(dircount))\n"
   ]
  },
  {
   "cell_type": "code",
   "execution_count": 3,
   "metadata": {},
   "outputs": [
    {
     "data": {
      "text/plain": [
       "[PhysicalDevice(name='/physical_device:GPU:0', device_type='GPU')]"
      ]
     },
     "execution_count": 3,
     "metadata": {},
     "output_type": "execute_result"
    }
   ],
   "source": [
    "import tensorflow as tf\n",
    "tf.config.list_physical_devices('GPU')\n"
   ]
  },
  {
   "cell_type": "code",
   "execution_count": 4,
   "metadata": {},
   "outputs": [
    {
     "data": {
      "text/plain": [
       "'/device:GPU:0'"
      ]
     },
     "execution_count": 4,
     "metadata": {},
     "output_type": "execute_result"
    }
   ],
   "source": [
    "import tensorflow as tf\n",
    "tf.test.gpu_device_name()\n"
   ]
  },
  {
   "cell_type": "markdown",
   "metadata": {
    "id": "SuyL8BOS-SY3"
   },
   "source": [
    "# **DATA PREPARATION**"
   ]
  },
  {
   "cell_type": "code",
   "execution_count": 5,
   "metadata": {
    "colab": {
     "base_uri": "https://localhost:8080/"
    },
    "id": "QA-bTToLq3QT",
    "outputId": "de021a67-e77e-454c-a550-e1a1608af59c"
   },
   "outputs": [
    {
     "name": "stdout",
     "output_type": "stream",
     "text": [
      "Cantidad etiquetas creadas:  112320\n"
     ]
    }
   ],
   "source": [
    "labels=[]\n",
    "indice=0\n",
    "for cantidad in dircount:\n",
    "    for i in range(cantidad):\n",
    "        labels.append(indice)   \n",
    "    indice=indice+1\n",
    "print(\"Cantidad etiquetas creadas: \",len(labels))"
   ]
  },
  {
   "cell_type": "code",
   "execution_count": 6,
   "metadata": {
    "colab": {
     "base_uri": "https://localhost:8080/"
    },
    "id": "DUtb3amOq4QY",
    "outputId": "7e88340e-ea06-4ae6-d808-a4a65cd075b6"
   },
   "outputs": [
    {
     "name": "stdout",
     "output_type": "stream",
     "text": [
      "0 CLASE_1\n",
      "1 CLASE_2\n",
      "2 CLASE_3\n",
      "3 CLASE_4\n",
      "4 CLASE_5\n",
      "5 CLASE_6\n"
     ]
    }
   ],
   "source": [
    "posturas=[]\n",
    "indice=0\n",
    "for directorio in directories:\n",
    "    name = directorio.split(os.sep)\n",
    "    print(indice , name[len(name)-1])\n",
    "    posturas.append(name[len(name)-1])\n",
    "    indice=indice+1"
   ]
  },
  {
   "cell_type": "code",
   "execution_count": 7,
   "metadata": {
    "colab": {
     "base_uri": "https://localhost:8080/"
    },
    "id": "3czPZC4gq9Dh",
    "outputId": "be589d68-6858-40a9-f02d-8c94c4c9a692"
   },
   "outputs": [
    {
     "name": "stdout",
     "output_type": "stream",
     "text": [
      "Total number of outputs :  6\n",
      "Output classes :  [0 1 2 3 4 5]\n"
     ]
    }
   ],
   "source": [
    "y = np.array(labels)\n",
    "X = np.array(images) #convierto de lista a numpy\n",
    "\n",
    "# Find the unique numbers from the train labels\n",
    "classes = np.unique(y)\n",
    "nClasses = len(classes)\n",
    "print('Total number of outputs : ', nClasses)\n",
    "print('Output classes : ', classes)"
   ]
  },
  {
   "cell_type": "code",
   "execution_count": 8,
   "metadata": {
    "colab": {
     "base_uri": "https://localhost:8080/"
    },
    "id": "_mlr178SrLhC",
    "outputId": "53b31588-e229-473c-d550-1f56486e1814"
   },
   "outputs": [
    {
     "name": "stdout",
     "output_type": "stream",
     "text": [
      "Testing data shape :  (22464, 32, 32, 4) (22464,)\n",
      "Training data shape :  (71884, 32, 32, 4) (71884,)\n",
      "validation data shape :  (17972, 32, 32, 4) (17972,)\n"
     ]
    }
   ],
   "source": [
    "from sklearn.model_selection import train_test_split\n",
    "\n",
    "# Test data // for testing at the end after tranning \n",
    "train_X,test_X,train_Y,test_Y = train_test_split(X,y,test_size=0.2)\n",
    "#print('Training data shape : ', train_X.shape, train_Y.shape)\n",
    "print('Testing data shape : ', test_X.shape, test_Y.shape)\n",
    "\n",
    "# validation data // for testing when tranning \n",
    "\n",
    "train_X,val_X,train_Y,val_Y = train_test_split(train_X,train_Y,test_size=0.2)\n",
    "print('Training data shape : ', train_X.shape, train_Y.shape)\n",
    "print('validation data shape : ', val_X.shape, val_Y.shape)"
   ]
  },
  {
   "cell_type": "markdown",
   "metadata": {
    "id": "CI8JqFOs-EKO"
   },
   "source": [
    "# **CNN Training**"
   ]
  },
  {
   "cell_type": "code",
   "execution_count": 9,
   "metadata": {
    "colab": {
     "base_uri": "https://localhost:8080/"
    },
    "id": "cBloc9zBqTr5",
    "outputId": "8cf35868-86a9-4212-f31a-9c413f4fb608"
   },
   "outputs": [
    {
     "name": "stdout",
     "output_type": "stream",
     "text": [
      "train_X shape: (71884, 32, 32, 4)\n",
      "71884 train samples\n",
      "17972 val samples\n",
      "22464 test samples\n"
     ]
    }
   ],
   "source": [
    "\n",
    "img_x = 32\n",
    "img_y = 32\n",
    "img_z = 4\n",
    "num_classes = 6\n",
    "\n",
    "batch_size = 32\n",
    "epochs = 100\n",
    "\n",
    "# reshape the data into a 4D tensor - (sample_number, x_img_size, y_img_size, num_channels)\n",
    "# because the MNIST is greyscale, we only have a single channel - RGB colour images would have 3\n",
    "input_shape = (img_x, img_y, img_z)\n",
    "\n",
    "# convert the data to the right type\n",
    "#train_X = train_X.reshape(train_X.shape[0], img_x, img_y, img_z)\n",
    "#test_X = test_X.reshape(test_X.shape[0], img_x, img_y, img_z)\n",
    "train_X = train_X.astype('float32')\n",
    "test_X = test_X.astype('float32')\n",
    "val_X = val_X.astype('float32')\n",
    "\n",
    "print('train_X shape:', train_X.shape)\n",
    "print(train_X.shape[0], 'train samples')\n",
    "print(val_X.shape[0], 'val samples')\n",
    "print(test_X.shape[0], 'test samples')\n",
    "\n",
    "# convert class vectors to binary class matrices - this is for use in the\n",
    "# categorical_crossentropy loss below\n",
    "#train_Y = tf.keras.utils.to_categorical(train_Y, num_classes)\n",
    "#test_Y = tf.keras.utils.to_categorical(test_Y, num_classes)\n",
    "\n",
    "\n",
    "# Guardar el modelo con nombre del tiempo en que se entreno para no sobreescribir los modelos\n",
    "\n",
    "#NAME =\"model_all_to_one_32px-{}\".format(int(time.time()))\n",
    "\n",
    "#NAME = 'all_to_on_300seg'\n",
    "\n",
    "#tensorboard = TensorBoard(log_dir=r'C:\\Users\\hpalm\\Desktop\\Programacion\\Proyecto_de_grado\\Jupyter\\Codigo\\logs\\p10_2')"
   ]
  },
  {
   "cell_type": "markdown",
   "metadata": {},
   "source": [
    "# **hyperparametor tuning**"
   ]
  },
  {
   "cell_type": "code",
   "execution_count": 10,
   "metadata": {},
   "outputs": [
    {
     "name": "stderr",
     "output_type": "stream",
     "text": [
      "c:\\Users\\JUANPABLOGASCA\\miniconda3\\envs\\py36\\lib\\site-packages\\ipykernel_launcher.py:1: DeprecationWarning: `import kerastuner` is deprecated, please use `import keras_tuner`.\n",
      "  \"\"\"Entry point for launching an IPython kernel.\n"
     ]
    }
   ],
   "source": [
    "from kerastuner import RandomSearch \n",
    "from kerastuner.engine.hyperparameters import HyperParameters\n",
    "from keras.layers import Conv2D, MaxPooling2D, Flatten, Dense, Dropout, BatchNormalization\n",
    "from keras.callbacks import EarlyStopping\n",
    "import tensorflow as tf\n",
    "\n"
   ]
  },
  {
   "cell_type": "code",
   "execution_count": 11,
   "metadata": {},
   "outputs": [],
   "source": [
    "custom_early_stopping = EarlyStopping(monitor=\"loss\",patience=3)"
   ]
  },
  {
   "cell_type": "code",
   "execution_count": 12,
   "metadata": {},
   "outputs": [],
   "source": [
    "def build_model(hp):  \n",
    "\n",
    "  custom_early_stopping = EarlyStopping(monitor=\"val_loss\",patience=3)\n",
    "  model = tf.keras.models.Sequential([\n",
    "    Conv2D(\n",
    "        filters=hp.Int('conv_1_filter', min_value=16, max_value=64, step=8),\n",
    "        kernel_size=(3,3),\n",
    "        strides=(2, 2),\n",
    "        padding='same',\n",
    "        activation='relu' \n",
    "    ),\n",
    "    Dropout(hp.Float('dropout_1', min_value=0.0, max_value=0.5, step=0.1)),\n",
    "    Conv2D(\n",
    "        filters=hp.Int('conv_2_filter', min_value=16, max_value=64, step=8),\n",
    "        kernel_size=(3,3),\n",
    "        strides=(2, 2),\n",
    "        padding='same',\n",
    "        activation='relu' \n",
    "    ),\n",
    "    Dropout(hp.Float('dropout_1', min_value=0.0, max_value=0.5, step=0.1)),\n",
    "    Conv2D(\n",
    "        filters=hp.Int('conv_3_filter', min_value=16, max_value=64, step=8),\n",
    "        kernel_size=(3,3),\n",
    "        strides=(2, 2),\n",
    "        padding='same',\n",
    "        activation='relu' \n",
    "    ),\n",
    "    Dropout(hp.Float('dropout_1', min_value=0.0, max_value=0.5, step=0.1)),\n",
    "    Conv2D(\n",
    "        filters=hp.Int('conv_4_filter', min_value=16, max_value=64, step=8),\n",
    "        kernel_size=(3,3),\n",
    "        strides=(2, 2),\n",
    "        padding='same',\n",
    "        activation='relu' \n",
    "    ),\n",
    "    Dropout(hp.Float('dropout_1', min_value=0.0, max_value=0.5, step=0.1)),\n",
    "    MaxPooling2D(\n",
    "      pool_size=(2, 2),\n",
    "      strides=2\n",
    "    ),\n",
    "    Dropout(hp.Float('dropout_1', min_value=0.0, max_value=0.5, step=0.1)),\n",
    "    \n",
    "    Flatten(),\n",
    "    Dense(units=hp.Int('dense_units', min_value=32, max_value=256, step=32),\n",
    "      activation='relu'),\n",
    "    Dense(6, activation='softmax')\n",
    "  ])\n",
    "  \n",
    "\n",
    "  model.compile(optimizer=tf.keras.optimizers.Adam(hp.Choice('learning_rate', values=[1e-2, 1e-3])),\n",
    "              loss=tf.keras.losses.SparseCategoricalCrossentropy(from_logits=True),\n",
    "              metrics=['accuracy'])\n",
    "  \n",
    "  return model"
   ]
  },
  {
   "cell_type": "code",
   "execution_count": 13,
   "metadata": {},
   "outputs": [],
   "source": [
    "tuner_search=RandomSearch(build_model, objective='val_accuracy',max_trials=20,directory=r\"C:\\Users\\JUANPABLOGASCA\\Desktop\\ALL -TENSORBOARD\\modelos\",project_name='sEMG Clasification_dau_1')"
   ]
  },
  {
   "cell_type": "code",
   "execution_count": 1,
   "metadata": {},
   "outputs": [
    {
     "ename": "NameError",
     "evalue": "name 'tuner_search' is not defined",
     "output_type": "error",
     "traceback": [
      "\u001b[1;31m---------------------------------------------------------------------------\u001b[0m",
      "\u001b[1;31mNameError\u001b[0m                                 Traceback (most recent call last)",
      "\u001b[1;32mc:\\Users\\JUANPABLOGASCA\\Desktop\\Hyper_parametros.ipynb Cell 18\u001b[0m in \u001b[0;36m<cell line: 1>\u001b[1;34m()\u001b[0m\n\u001b[1;32m----> <a href='vscode-notebook-cell:/c%3A/Users/JUANPABLOGASCA/Desktop/Hyper_parametros.ipynb#X23sZmlsZQ%3D%3D?line=0'>1</a>\u001b[0m tuner_search\u001b[39m.\u001b[39msearch(train_X, train_Y,epochs\u001b[39m=\u001b[39m\u001b[39m50\u001b[39m,validation_data\u001b[39m=\u001b[39m(val_X, val_Y),callbacks\u001b[39m=\u001b[39m[custom_early_stopping])\n",
      "\u001b[1;31mNameError\u001b[0m: name 'tuner_search' is not defined"
     ]
    }
   ],
   "source": [
    "tuner_search.search(train_X, train_Y,epochs=50,validation_data=(val_X, val_Y),callbacks=[custom_early_stopping])\n"
   ]
  },
  {
   "cell_type": "code",
   "execution_count": 65,
   "metadata": {},
   "outputs": [],
   "source": [
    "model = tuner_search.get_best_models(num_models=1)[0]"
   ]
  },
  {
   "cell_type": "code",
   "execution_count": 66,
   "metadata": {},
   "outputs": [],
   "source": [
    "model.build([9097,32,32,3])"
   ]
  },
  {
   "cell_type": "code",
   "execution_count": 67,
   "metadata": {},
   "outputs": [
    {
     "name": "stdout",
     "output_type": "stream",
     "text": [
      "Model: \"sequential\"\n",
      "_________________________________________________________________\n",
      " Layer (type)                Output Shape              Param #   \n",
      "=================================================================\n",
      " conv2d (Conv2D)             (9097, 16, 16, 24)        672       \n",
      "                                                                 \n",
      " dropout (Dropout)           (9097, 16, 16, 24)        0         \n",
      "                                                                 \n",
      " conv2d_1 (Conv2D)           (9097, 8, 8, 56)          12152     \n",
      "                                                                 \n",
      " dropout_1 (Dropout)         (9097, 8, 8, 56)          0         \n",
      "                                                                 \n",
      " conv2d_2 (Conv2D)           (9097, 4, 4, 40)          20200     \n",
      "                                                                 \n",
      " dropout_2 (Dropout)         (9097, 4, 4, 40)          0         \n",
      "                                                                 \n",
      " max_pooling2d (MaxPooling2D  (9097, 2, 2, 40)         0         \n",
      " )                                                               \n",
      "                                                                 \n",
      " dropout_3 (Dropout)         (9097, 2, 2, 40)          0         \n",
      "                                                                 \n",
      " flatten (Flatten)           (9097, 160)               0         \n",
      "                                                                 \n",
      " dense (Dense)               (9097, 224)               36064     \n",
      "                                                                 \n",
      " dense_1 (Dense)             (9097, 6)                 1350      \n",
      "                                                                 \n",
      "=================================================================\n",
      "Total params: 70,438\n",
      "Trainable params: 70,438\n",
      "Non-trainable params: 0\n",
      "_________________________________________________________________\n"
     ]
    }
   ],
   "source": [
    "model.summary()"
   ]
  },
  {
   "cell_type": "markdown",
   "metadata": {},
   "source": [
    "#  **Showing architecture**"
   ]
  },
  {
   "cell_type": "code",
   "execution_count": 68,
   "metadata": {},
   "outputs": [],
   "source": [
    "import visualkeras\n",
    "from PIL import ImageFont\n",
    "from tensorflow.keras import layers\n",
    "from collections import defaultdict\n",
    "from PIL import Image\n",
    "\n",
    "# Definir la fuente\n",
    "font = ImageFont.truetype(\"arial.ttf\", 20)\n",
    "\n",
    "color_map = defaultdict(dict)\n",
    "color_map[layers.Conv2D]['fill'] = '#00f5d4'\n",
    "color_map[layers.MaxPooling2D]['fill'] = '#8338ec'\n",
    "color_map[layers.Dense]['fill'] = '#fb5607'\n",
    "color_map[layers.Flatten]['fill'] = '#ffbe0b'\n",
    "\n",
    "img = visualkeras.layered_view(model, legend=True, font=font,color_map=color_map)\n",
    "#img.save(r\"C:\\Users\\JUANPABLOGASCA\\Desktop\\Pacientes_CNN\\Arquitectura - CNN\\CNN.png\", \"PNG\")"
   ]
  },
  {
   "cell_type": "code",
   "execution_count": 69,
   "metadata": {},
   "outputs": [
    {
     "data": {
      "image/png": "[encoded data removed]",
      "text/plain": [
       "<PIL.Image.Image image mode=RGBA size=357x228>"
      ]
     },
     "execution_count": 69,
     "metadata": {},
     "output_type": "execute_result"
    }
   ],
   "source": [
    "img"
   ]
  },
  {
   "cell_type": "code",
   "execution_count": 74,
   "metadata": {},
   "outputs": [],
   "source": [
    "def visualizacion_resultados(model):\n",
    "  \n",
    "  fig, ax = plt.subplots(1,2)\n",
    "  acc = model.history['acc']\n",
    "  loss = model.history['loss']\n",
    "  val_acc = model.history['val_acc']\n",
    "  val_loss = model.history['val_loss']\n",
    "  epochs  = range(len(acc))\n",
    "  fig.set_size_inches(16,9)\n",
    "\n",
    "  ax[0].plot(epochs,acc,'go-',label = 'Entrenamiento accuracy')\n",
    "  ax[0].plot(epochs,val_acc,'ro-',label = 'validacion acurracy')\n",
    "  ax[0].set_title('Entrenamiento & validacion accuracy')\n",
    "  ax[0].legend()\n",
    "  ax[0].set_xlabel('Epochs')\n",
    "  ax[0].set_ylabel('accuracy')\n",
    "\n",
    "  ax[1].plot(epochs,loss,'go-',label = 'Entrenamiento Loss')\n",
    "  ax[1].plot(epochs,val_loss,'ro-',label = 'validacion Loss')\n",
    "  ax[1].set_title('Entrenamiento & validacion Test')\n",
    "  ax[1].legend()\n",
    "  ax[1].set_xlabel('Epochs')\n",
    "  ax[1].set_ylabel('Loss')\n",
    "\n",
    "  plt.show()"
   ]
  },
  {
   "cell_type": "code",
   "execution_count": 75,
   "metadata": {
    "colab": {
     "base_uri": "https://localhost:8080/",
     "height": 545
    },
    "id": "K6EL2lPdI8rG",
    "outputId": "07b45139-b8c9-4a09-eeb0-9db6137ff1ea"
   },
   "outputs": [
    {
     "ename": "TypeError",
     "evalue": "'NoneType' object is not subscriptable",
     "output_type": "error",
     "traceback": [
      "\u001b[1;31m---------------------------------------------------------------------------\u001b[0m",
      "\u001b[1;31mTypeError\u001b[0m                                 Traceback (most recent call last)",
      "Cell \u001b[1;32mIn[75], line 1\u001b[0m\n\u001b[1;32m----> 1\u001b[0m visualizacion_resultados(model)\n",
      "Cell \u001b[1;32mIn[74], line 4\u001b[0m, in \u001b[0;36mvisualizacion_resultados\u001b[1;34m(model)\u001b[0m\n\u001b[0;32m      1\u001b[0m \u001b[39mdef\u001b[39;00m \u001b[39mvisualizacion_resultados\u001b[39m(model):\n\u001b[0;32m      3\u001b[0m   fig, ax \u001b[39m=\u001b[39m plt\u001b[39m.\u001b[39msubplots(\u001b[39m1\u001b[39m,\u001b[39m2\u001b[39m)\n\u001b[1;32m----> 4\u001b[0m   acc \u001b[39m=\u001b[39m model\u001b[39m.\u001b[39;49mhistory[\u001b[39m'\u001b[39;49m\u001b[39macc\u001b[39;49m\u001b[39m'\u001b[39;49m]\n\u001b[0;32m      5\u001b[0m   loss \u001b[39m=\u001b[39m model\u001b[39m.\u001b[39mhistory[\u001b[39m'\u001b[39m\u001b[39mloss\u001b[39m\u001b[39m'\u001b[39m]\n\u001b[0;32m      6\u001b[0m   val_acc \u001b[39m=\u001b[39m model\u001b[39m.\u001b[39mhistory[\u001b[39m'\u001b[39m\u001b[39mval_acc\u001b[39m\u001b[39m'\u001b[39m]\n",
      "\u001b[1;31mTypeError\u001b[0m: 'NoneType' object is not subscriptable"
     ]
    },
    {
     "data": {
      "image/png": "[encoded data removed]",
      "text/plain": [
       "<Figure size 640x480 with 2 Axes>"
      ]
     },
     "metadata": {},
     "output_type": "display_data"
    }
   ],
   "source": [
    "visualizacion_resultados(model)"
   ]
  },
  {
   "cell_type": "code",
   "execution_count": 13,
   "metadata": {
    "id": "llgLYVYplXGK"
   },
   "outputs": [],
   "source": [
    "if os.path.isfile(r\"C:\\Users\\hpalm\\Desktop\\Programacion\\Proyecto_de_grado\\Jupyter\\Modelos\\transfer_learning_P1.h5\") is False:\n",
    "  model.save(r'C:\\Users\\hpalm\\Desktop\\Programacion\\Proyecto_de_grado\\Jupyter\\Modelos\\transfer_learning_P1.h5')"
   ]
  },
  {
   "cell_type": "markdown",
   "metadata": {
    "id": "onxLbvNe2Rqa"
   },
   "source": [
    "# **Generate predictions**"
   ]
  },
  {
   "cell_type": "code",
   "execution_count": 22,
   "metadata": {
    "colab": {
     "base_uri": "https://localhost:8080/"
    },
    "id": "ltb2_F8gLuwe",
    "outputId": "cedaa8fc-1502-4d2a-e7e3-c02ce0cc8ec0"
   },
   "outputs": [],
   "source": [
    "predicted_classes2 = model.predict(test_X)"
   ]
  },
  {
   "cell_type": "code",
   "execution_count": 23,
   "metadata": {
    "id": "FltHo13EL10k"
   },
   "outputs": [],
   "source": [
    "predicted_classes=[]\n",
    "for predicted_sport in predicted_classes2:\n",
    "    predicted_classes.append(predicted_sport.tolist().index(max(predicted_sport)))\n",
    "predicted_classes=np.array(predicted_classes)"
   ]
  },
  {
   "cell_type": "code",
   "execution_count": 24,
   "metadata": {
    "colab": {
     "base_uri": "https://localhost:8080/"
    },
    "id": "p-l1OSkXMNw8",
    "outputId": "dbeed208-672b-4aff-e9a4-8123491a6d9e"
   },
   "outputs": [
    {
     "data": {
      "text/plain": [
       "((1124,), (1124,))"
      ]
     },
     "execution_count": 24,
     "metadata": {},
     "output_type": "execute_result"
    }
   ],
   "source": [
    "predicted_classes.shape, test_Y.shape"
   ]
  },
  {
   "cell_type": "code",
   "execution_count": 25,
   "metadata": {
    "colab": {
     "base_uri": "https://localhost:8080/"
    },
    "id": "1oa9JAIqHU4Z",
    "outputId": "d45e4aab-38f1-4493-d82f-b94afdb949af"
   },
   "outputs": [
    {
     "data": {
      "text/plain": [
       "5"
      ]
     },
     "execution_count": 25,
     "metadata": {},
     "output_type": "execute_result"
    }
   ],
   "source": [
    "#rounded_labels = np.argmax(test_Y, axis=1)\n",
    "rounded_labels = test_Y\n",
    "rounded_labels[5]"
   ]
  },
  {
   "cell_type": "markdown",
   "metadata": {
    "id": "ikcTgPSMzaV0"
   },
   "source": [
    "# **MATRIX CONFUSION**"
   ]
  },
  {
   "cell_type": "code",
   "execution_count": 26,
   "metadata": {
    "id": "-zVQWqyPvAci"
   },
   "outputs": [],
   "source": [
    "from sklearn.metrics import confusion_matrix\n",
    "import itertools\n",
    "\n",
    "\n",
    "#predicted_classes_m = np.argmax(predicted_classes,axis=1)\n",
    "#test_Y_m = np.argmax(test_Y,axis=1)\n",
    "#Esto es dificil de leer \n",
    "\n",
    "#confusion_matrix(test_Y, predicted_classes_m)\n",
    "\n",
    "cm = confusion_matrix(rounded_labels,predicted_classes)\n",
    "\n"
   ]
  },
  {
   "cell_type": "code",
   "execution_count": 27,
   "metadata": {
    "id": "RkIHtxs4JK6r"
   },
   "outputs": [],
   "source": [
    "def plot_confusion_matrix(cm, classes,\n",
    "                          normalize=True,\n",
    "                          title='Confusion matrix',\n",
    "                          cmap=plt.cm.Blues):\n",
    "    \"\"\"\n",
    "    This function prints and plots the confusion matrix.\n",
    "    Normalization can be applied by setting `normalize=True`.\n",
    "    \"\"\"\n",
    "    plt.imshow(cm, interpolation='nearest', cmap=cmap)\n",
    "    plt.title(title)\n",
    "    plt.colorbar()\n",
    "    tick_marks = np.arange(len(classes))\n",
    "    plt.xticks(tick_marks, classes, rotation=45)\n",
    "    plt.yticks(tick_marks, classes)\n",
    "\n",
    "    if normalize:\n",
    "        cm = cm.astype('float') / cm.sum(axis=1)[:, np.newaxis]\n",
    "        print(\"Normalized confusion matrix\")\n",
    "    else:\n",
    "        print('Confusion matrix, without normalization')\n",
    "\n",
    "    print(cm)\n",
    "\n",
    "    thresh = cm.max() / 2.\n",
    "    for i, j in itertools.product(range(cm.shape[0]), range(cm.shape[1])):\n",
    "        plt.text(j, i, format(cm[i, j],'.2f'),\n",
    "                 horizontalalignment=\"center\",\n",
    "                 color=\"white\" if cm[i, j] > thresh else \"black\")\n",
    "\n",
    "    plt.tight_layout()\n",
    "    plt.ylabel('True label')\n",
    "    plt.xlabel('Predicted label')\n",
    "    #plt.savefig(r'C:\\Users\\hpalm\\Desktop\\Programacion\\Proyecto_de_grado\\Jupyter\\Matrices de confusion\\all_to_one_32_18_1_2deci.png', transparent = False, bbox_inches = 'tight')"
   ]
  },
  {
   "cell_type": "code",
   "execution_count": 35,
   "metadata": {},
   "outputs": [],
   "source": [
    "#function that return  a confusion matrix and plot it "
   ]
  },
  {
   "cell_type": "code",
   "execution_count": 28,
   "metadata": {
    "colab": {
     "base_uri": "https://localhost:8080/",
     "height": 433
    },
    "id": "lPl10utqJSh4",
    "outputId": "493cb281-a4b8-48bb-e5fe-059cb2d0d41d"
   },
   "outputs": [
    {
     "name": "stdout",
     "output_type": "stream",
     "text": [
      "Normalized confusion matrix\n",
      "[[0.90909091 0.00478469 0.01435407 0.05263158 0.01913876 0.        ]\n",
      " [0.00552486 0.96132597 0.03314917 0.         0.         0.        ]\n",
      " [0.01052632 0.06315789 0.91578947 0.         0.01052632 0.        ]\n",
      " [0.01183432 0.         0.01183432 0.94674556 0.0295858  0.        ]\n",
      " [0.00568182 0.         0.         0.03977273 0.95454545 0.        ]\n",
      " [0.         0.         0.         0.         0.         1.        ]]\n"
     ]
    },
    {
     "data": {
      "image/png": "[encoded data removed]",
      "text/plain": [
       "<Figure size 432x288 with 2 Axes>"
      ]
     },
     "metadata": {
      "needs_background": "light"
     },
     "output_type": "display_data"
    }
   ],
   "source": [
    "cm_plot_labels = ['Clase_1','Clase_2','Clase_3','Clase_4','Clase_5','Clase_6']\n",
    "plot_confusion_matrix(cm,cm_plot_labels, title = 'Confusion Matrix')\n"
   ]
  },
  {
   "cell_type": "markdown",
   "metadata": {
    "id": "M8kQOnr5rkgc"
   },
   "source": [
    "# **METRICS OF THE CONFUSION MATRIX**"
   ]
  },
  {
   "cell_type": "code",
   "execution_count": 29,
   "metadata": {
    "colab": {
     "base_uri": "https://localhost:8080/"
    },
    "id": "U3Sq8Rn9e4E0",
    "outputId": "2bfa5804-eab4-472d-c0e2-f4aea97dc921"
   },
   "outputs": [
    {
     "name": "stdout",
     "output_type": "stream",
     "text": [
      "Accuracy (Polynomial Kernel):  94.75\n",
      "F1 (Polynomial Kernel):  94.75\n",
      "Recall_Score (Polynomial Kernel):  94.79\n",
      "Precision (Polynomial Kernel):  94.63\n"
     ]
    }
   ],
   "source": [
    "from sklearn.metrics import accuracy_score, precision_score, recall_score, f1_score\n",
    "\n",
    "\n",
    "poly_accuracy = accuracy_score(rounded_labels, predicted_classes)\n",
    "poly_f1 = f1_score(rounded_labels, predicted_classes, average='weighted')\n",
    "poly_recall = recall_score(rounded_labels, predicted_classes, average='macro')\n",
    "poly_precision = precision_score(rounded_labels, predicted_classes, average='macro')\n",
    "\n",
    "print('Accuracy (Polynomial Kernel): ', \"%.2f\" % (poly_accuracy*100))\n",
    "print('F1 (Polynomial Kernel): ', \"%.2f\" % (poly_f1*100))\n",
    "print('Recall_Score (Polynomial Kernel): ', \"%.2f\" % (poly_recall*100))\n",
    "print('Precision (Polynomial Kernel): ', \"%.2f\" % (poly_precision*100))"
   ]
  }
 ],
 "metadata": {
  "accelerator": "GPU",
  "colab": {
   "provenance": []
  },
  "gpuClass": "standard",
  "kernelspec": {
   "display_name": "machinelearning",
   "language": "python",
   "name": "python3"
  },
  "language_info": {
   "codemirror_mode": {
    "name": "ipython",
    "version": 3
   },
   "file_extension": ".py",
   "mimetype": "text/x-python",
   "name": "python",
   "nbconvert_exporter": "python",
   "pygments_lexer": "ipython3",
   "version": "3.9.16"
  },
  "vscode": {
   "interpreter": {
    "hash": "62a6264062298a1f0b2af1f94255ae7dd1c748e51143d8b060f777ea80d2be74"
   }
  }
 },
 "nbformat": 4,
 "nbformat_minor": 1
}
