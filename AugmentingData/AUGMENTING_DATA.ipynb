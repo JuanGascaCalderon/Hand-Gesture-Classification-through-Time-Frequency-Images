{
 "cells": [
  {
   "attachments": {},
   "cell_type": "markdown",
   "metadata": {},
   "source": [
    "## AUGMENTING DATA"
   ]
  },
  {
   "cell_type": "code",
   "execution_count": 48,
   "metadata": {},
   "outputs": [
    {
     "name": "stdout",
     "output_type": "stream",
     "text": [
      "0 imágenes generadas de un total esperado de 1560\n"
     ]
    }
   ],
   "source": [
    "import os\n",
    "import numpy as np\n",
    "from PIL import Image\n",
    "from tensorflow.keras.preprocessing.image import ImageDataGenerator\n",
    "\n",
    "# Definir la tubería de aumento de datos\n",
    "datagen = ImageDataGenerator(\n",
    "    horizontal_flip=True,  # Dar la vuelta a la imagen horizontalmente con una probabilidad del 50%\n",
    "    vertical_flip=True,  # Dar la vuelta a la imagen verticalmente con una probabilidad del 50%\n",
    "    brightness_range=(0.8, 1.2),  # Cambiar el brillo de la imagen multiplicando todos los valores de píxeles por un factor aleatorio entre 0.8 y 1.2\n",
    "    shear_range=0.2  # Aplicar cizallamiento de hasta 20 grados en cualquier dirección\n",
    ")\n",
    "\n",
    "posturas = ['Mano afuera']\n",
    "sujetos = ['P03'] #, 'P03', 'P04', 'P05', 'P06', 'P07', 'P08', 'P09', 'P10'\n",
    "windows = ['HANNING']#'BARTLETT', 'BLACKMAN', 'HAMMING',\n",
    "# Iterar sobre los tamaños de imagen\n",
    "for postura in posturas:\n",
    "    for sujeto in sujetos:\n",
    "        # Directorio que contiene las imágenes STFT guardadas\n",
    "        image_dir = f\"C:\\\\Users\\\\JUANPABLOGASCA\\\\Desktop\\\\Pacientes_6000\\\\{sujeto}\\\\{postura}\\\\HANNING\\\\Normal_size\"\n",
    "\n",
    "        # Directorio donde se guardarán las imágenes aumentadas\n",
    "        output_dir = f\"C:\\\\Users\\\\JUANPABLOGASCA\\\\Desktop\\\\Pacientes_6000\\\\{sujeto}\\\\{postura}\\\\HANNING\\\\Normal_size_AUGMENTING\"\n",
    "\n",
    "        # Crear el directorio de salida si no existe\n",
    "        os.makedirs(output_dir, exist_ok=True)\n",
    "\n",
    "        # Inicializar el contador de imágenes generadas\n",
    "        num_generated_images = 0\n",
    "\n",
    "        # Iterar sobre todas las imágenes STFT en el directorio de imágenes\n",
    "        for image_file in os.listdir(image_dir):\n",
    "            if image_file.endswith(\".png\"):\n",
    "                # Cargar la imagen STFT del disco y convertirla en un arreglo NumPy\n",
    "                image_path = os.path.join(image_dir, image_file)\n",
    "                img = Image.open(image_path)\n",
    "                img_array = np.array(img)\n",
    "\n",
    "                # Guardar la imagen original en el disco\n",
    "                output_path = os.path.join(output_dir, f\"{image_file}\")\n",
    "                img.save(output_path)\n",
    "\n",
    "                # Generar imágenes aumentadas y guardarlas en el disco\n",
    "                i = 0\n",
    "                for batch in datagen.flow(np.expand_dims(img_array, axis=0), batch_size=1, save_to_dir=output_dir, save_prefix=f\"{image_file[:-4]}_aug_\", save_format=\"png\"):\n",
    "                    i += 1\n",
    "                    if i > 4:\n",
    "                        break\n",
    "        # Imprimir el número de imágenes generadas y el número esperado\n",
    "        print(f\"{num_generated_images} imágenes generadas de un total esperado de {312 * 5}\")\n"
   ]
  },
  {
   "attachments": {},
   "cell_type": "markdown",
   "metadata": {},
   "source": [
    "### Reducción de Imagenes"
   ]
  },
  {
   "cell_type": "code",
   "execution_count": 7,
   "metadata": {},
   "outputs": [],
   "source": [
    "import os\n",
    "import shutil\n",
    "from PIL import Image\n",
    "\n",
    "posturas = ['Pinza']\n",
    "sujetos = ['P03'] #'P03', 'P04', 'P05', 'P06', 'P07', 'P08', 'P09', 'P10'\n",
    "sizes = ['128']\n",
    "\n",
    "for postura in posturas:\n",
    "    for sujeto in sujetos:\n",
    "        # Carpeta de origen de las imágenes\n",
    "        ruta_origen = f\"C:\\\\Users\\\\JUANPABLOGASCA\\\\Desktop\\\\Pacientes_6000\\\\{sujeto}\\\\{postura}\\\\HANNING\\\\Normal_size_AUGMENTING\"\n",
    "        \n",
    "        # Iterar sobre los tamaños y las carpetas de destino\n",
    "        for i in sizes:\n",
    "            tam = (int(i), int(i))\n",
    "            ruta_destino = f\"C:\\\\Users\\\\JUANPABLOGASCA\\\\Desktop\\\\Pacientes_6000\\\\{sujeto}\\\\{postura}\\\\HANNING\\\\{i}_AUGMENTING\"\n",
    "            if not os.path.exists(ruta_destino):\n",
    "                os.makedirs(ruta_destino)\n",
    "                \n",
    "            # Iterar sobre las imágenes en la carpeta de origen\n",
    "            for filename in os.listdir(ruta_origen):\n",
    "                if filename.endswith(\".jpg\") or filename.endswith(\".png\"):\n",
    "                    # Copiar la imagen original en la carpeta de destino\n",
    "                    ruta_imagen_origen = os.path.join(ruta_origen, filename)\n",
    "                    ruta_imagen_destino = os.path.join(ruta_destino, filename)\n",
    "                    shutil.copyfile(ruta_imagen_origen, ruta_imagen_destino)\n",
    "\n",
    "                    # Redimensionar la imagen copiada\n",
    "                    imagen = Image.open(ruta_imagen_destino)\n",
    "                    imagen_reducida = imagen.resize(tam, resample=Image.BOX)\n",
    "                    imagen_reducida.save(ruta_imagen_destino)\n",
    "\n",
    "                    # Cerrar la imagen\n",
    "                    imagen.close()\n",
    "\n",
    "\n",
    "\n",
    "\n",
    "\n"
   ]
  },
  {
   "cell_type": "code",
   "execution_count": 4,
   "metadata": {},
   "outputs": [
    {
     "name": "stdout",
     "output_type": "stream",
     "text": [
      "La imagen tiene (32, 32, 3) canales de color\n"
     ]
    }
   ],
   "source": [
    "import cv2\n",
    "\n",
    "img_path = r\"C:\\Users\\JUANPABLOGASCA\\Desktop\\Pacientes_CNN\\P01\\Clases-32\\CLASE_1\\STFT_C1_1_300_Hanning.png\"\n",
    "image = cv2.imread(img_path)\n",
    "print(\"La imagen tiene\", image.shape, \"canales de color\")\n"
   ]
  }
 ],
 "metadata": {
  "kernelspec": {
   "display_name": "Python 3",
   "language": "python",
   "name": "python3"
  },
  "language_info": {
   "codemirror_mode": {
    "name": "ipython",
    "version": 3
   },
   "file_extension": ".py",
   "mimetype": "text/x-python",
   "name": "python",
   "nbconvert_exporter": "python",
   "pygments_lexer": "ipython3",
   "version": "3.11.1"
  },
  "orig_nbformat": 4
 },
 "nbformat": 4,
 "nbformat_minor": 2
}
